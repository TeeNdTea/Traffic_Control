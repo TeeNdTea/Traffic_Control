{
 "cells": [
  {
   "cell_type": "code",
   "execution_count": null,
   "id": "8b312e7b",
   "metadata": {},
   "outputs": [
    {
     "name": "stdout",
     "output_type": "stream",
     "text": [
      "No solution: Singular matrix\n"
     ]
    }
   ],
   "source": [
    "import numpy as np\n",
    "\n",
    "# Step 1: Coefficient matrix A from equation\n",
    "A = np.array([\n",
    "    [1, 0, 0, 1],\n",
    "    [1, 1, 0, 0],\n",
    "    [0, 1, 1, 0],\n",
    "    [0, 0, 1, 1]\n",
    "], dtype=float)\n",
    "\n",
    "# Step 2: Constants as B\n",
    "\n",
    "B = np.array([475, 655, 1050, 900], dtype=float)\n",
    "\n",
    "# Step 3: Solve using NumPy \n",
    "try:\n",
    "    X = np.linalg.solve(A, B)       # np.linalg is used to solve 'Ax=b' eqn here\n",
    "    print(\"Solution:\")\n",
    "    for i, val in enumerate(X, 1):\n",
    "        print(f\"x{i} = {val}\")\n",
    "except np.linalg.LinAlgError as e:\n",
    "    print(\"No solution:\", e)"
   ]
  }
 ],
 "metadata": {
  "kernelspec": {
   "display_name": "Python 3",
   "language": "python",
   "name": "python3"
  },
  "language_info": {
   "codemirror_mode": {
    "name": "ipython",
    "version": 3
   },
   "file_extension": ".py",
   "mimetype": "text/x-python",
   "name": "python",
   "nbconvert_exporter": "python",
   "pygments_lexer": "ipython3",
   "version": "3.10.0"
  }
 },
 "nbformat": 4,
 "nbformat_minor": 5
}
